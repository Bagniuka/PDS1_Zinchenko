{
 "cells": [
  {
   "cell_type": "markdown",
   "id": "ef88f0ff",
   "metadata": {},
   "source": [
    "|Year |Rank |Company             |Revenue|Profit|\n",
    "|:-   |:-:  |        :-:         |:-:    |    -:|\n",
    "|1995 |229  |Norton              |135.0  |N.A.  |\n",
    "|1995 |291  |Schlitz Brewing     |100.0  |N.A.  |\n",
    "|1995 |295  |Pacific Vegetable Oi|97.9   |N.A.  |\n",
    "|1995 |297  |Liebmann Breweries  |96.0   |N.A.  |\n",
    "|1995 |353  |Minneapolis-Moline  |77.4   |N.A.  |"
   ]
  },
  {
   "cell_type": "code",
   "execution_count": 41,
   "id": "5262558d",
   "metadata": {},
   "outputs": [
    {
     "name": "stdout",
     "output_type": "stream",
     "text": [
      "947 ns ± 300 ns per loop (mean ± std. dev. of 7 runs, 10 loops each)\n"
     ]
    }
   ],
   "source": [
    "%%timeit -n 10\n",
    "import random\n",
    "from random_words import RandomWords\n",
    "\n",
    "def bubble_sort():\n",
    "    w = RandomWords()\n",
    "    \n",
    "    int_list = []\n",
    "    float_list = []\n",
    "    str_list = []\n",
    "    lists = []\n",
    "    \n",
    "    for _ in range(0, 5000):\n",
    "        int_list.append(random.randint(0, 1000))\n",
    "        float_list.append(random.uniform(0.1, 100.0))\n",
    "        str_list.append(w.random_word())\n",
    "    \n",
    "    lists += [int_list]\n",
    "    lists += [float_list]\n",
    "    lists += [str_list]\n",
    "    \n",
    "    for list in lists:\n",
    "        length = len(list)\n",
    "        for iIndex in range(length):\n",
    "            for jIndex in range(0, length - iIndex - 1):\n",
    "                if list[jIndex] > list[jIndex + 1]:\n",
    "                    list[jIndex], list[jIndex + 1] = list[jIndex + 1], list[jIndex]"
   ]
  },
  {
   "cell_type": "code",
   "execution_count": null,
   "id": "926d3434",
   "metadata": {},
   "outputs": [],
   "source": []
  },
  {
   "cell_type": "code",
   "execution_count": null,
   "id": "972affa4",
   "metadata": {},
   "outputs": [],
   "source": []
  }
 ],
 "metadata": {
  "kernelspec": {
   "display_name": "Python 3 (ipykernel)",
   "language": "python",
   "name": "python3"
  },
  "language_info": {
   "codemirror_mode": {
    "name": "ipython",
    "version": 3
   },
   "file_extension": ".py",
   "mimetype": "text/x-python",
   "name": "python",
   "nbconvert_exporter": "python",
   "pygments_lexer": "ipython3",
   "version": "3.10.8"
  }
 },
 "nbformat": 4,
 "nbformat_minor": 5
}
